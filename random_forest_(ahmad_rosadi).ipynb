{
  "nbformat": 4,
  "nbformat_minor": 0,
  "metadata": {
    "kernelspec": {
      "display_name": "R",
      "language": "R",
      "name": "ir"
    },
    "language_info": {
      "codemirror_mode": "r",
      "file_extension": ".r",
      "mimetype": "text/x-r-source",
      "name": "R",
      "pygments_lexer": "r",
      "version": "3.3.0"
    },
    "colab": {
      "name": "random forest (ahmad rosadi).ipynb",
      "provenance": [],
      "collapsed_sections": []
    }
  },
  "cells": [
    {
      "cell_type": "markdown",
      "metadata": {
        "id": "W0KKvxXL9pig"
      },
      "source": [
        "# Random Forest"
      ]
    },
    {
      "cell_type": "code",
      "metadata": {
        "id": "gVSYKdQT9piw",
        "outputId": "aa965aef-f069-4040-a82d-526716422af4",
        "colab": {
          "base_uri": "https://localhost:8080/"
        }
      },
      "source": [
        "# randomForest\n",
        "install.packages(\"randomForest\")\n",
        "install.packages(\"cvAUC\")\n",
        "library(randomForest)\n",
        "library(cvAUC)"
      ],
      "execution_count": 4,
      "outputs": [
        {
          "output_type": "stream",
          "text": [
            "Installing package into ‘/usr/local/lib/R/site-library’\n",
            "(as ‘lib’ is unspecified)\n",
            "\n",
            "Installing package into ‘/usr/local/lib/R/site-library’\n",
            "(as ‘lib’ is unspecified)\n",
            "\n",
            "also installing the dependencies ‘bitops’, ‘gtools’, ‘caTools’, ‘gplots’, ‘ROCR’, ‘data.table’\n",
            "\n",
            "\n",
            "randomForest 4.6-14\n",
            "\n",
            "Type rfNews() to see new features/changes/bug fixes.\n",
            "\n",
            "Loading required package: ROCR\n",
            "\n",
            "Loading required package: data.table\n",
            "\n",
            " \n",
            "\n",
            "cvAUC version: 1.1.0\n",
            "\n",
            "Notice to cvAUC users: Major speed improvements in version 1.1.0\n",
            "\n",
            " \n",
            "\n"
          ],
          "name": "stderr"
        }
      ]
    },
    {
      "cell_type": "code",
      "metadata": {
        "id": "jto8rh8A9pi0",
        "outputId": "16639e39-3d2c-4057-9047-bb04312093d7"
      },
      "source": [
        "# Muat set data respons biner\n",
        "train <- read.csv(\"data/higgs_train_10k.csv\")\n",
        "test <- read.csv(\"data/higgs_test_5k.csv\")\n",
        "\n",
        "# Ukuran\n",
        "dim(train)\n",
        "dim(test)\n",
        "\n",
        "# Kolom\n",
        "names(train)"
      ],
      "execution_count": null,
      "outputs": [
        {
          "output_type": "display_data",
          "data": {
            "text/html": [
              "<ol class=list-inline>\n",
              "\t<li>10000</li>\n",
              "\t<li>29</li>\n",
              "</ol>\n"
            ],
            "text/latex": "\\begin{enumerate*}\n\\item 10000\n\\item 29\n\\end{enumerate*}\n",
            "text/markdown": "1. 10000\n2. 29\n\n\n",
            "text/plain": [
              "[1] 10000    29"
            ]
          },
          "metadata": {
            "tags": []
          }
        },
        {
          "output_type": "display_data",
          "data": {
            "text/html": [
              "<ol class=list-inline>\n",
              "\t<li>5000</li>\n",
              "\t<li>29</li>\n",
              "</ol>\n"
            ],
            "text/latex": "\\begin{enumerate*}\n\\item 5000\n\\item 29\n\\end{enumerate*}\n",
            "text/markdown": "1. 5000\n2. 29\n\n\n",
            "text/plain": [
              "[1] 5000   29"
            ]
          },
          "metadata": {
            "tags": []
          }
        },
        {
          "output_type": "display_data",
          "data": {
            "text/html": [
              "<ol class=list-inline>\n",
              "\t<li>'response'</li>\n",
              "\t<li>'x1'</li>\n",
              "\t<li>'x2'</li>\n",
              "\t<li>'x3'</li>\n",
              "\t<li>'x4'</li>\n",
              "\t<li>'x5'</li>\n",
              "\t<li>'x6'</li>\n",
              "\t<li>'x7'</li>\n",
              "\t<li>'x8'</li>\n",
              "\t<li>'x9'</li>\n",
              "\t<li>'x10'</li>\n",
              "\t<li>'x11'</li>\n",
              "\t<li>'x12'</li>\n",
              "\t<li>'x13'</li>\n",
              "\t<li>'x14'</li>\n",
              "\t<li>'x15'</li>\n",
              "\t<li>'x16'</li>\n",
              "\t<li>'x17'</li>\n",
              "\t<li>'x18'</li>\n",
              "\t<li>'x19'</li>\n",
              "\t<li>'x20'</li>\n",
              "\t<li>'x21'</li>\n",
              "\t<li>'x22'</li>\n",
              "\t<li>'x23'</li>\n",
              "\t<li>'x24'</li>\n",
              "\t<li>'x25'</li>\n",
              "\t<li>'x26'</li>\n",
              "\t<li>'x27'</li>\n",
              "\t<li>'x28'</li>\n",
              "</ol>\n"
            ],
            "text/latex": "\\begin{enumerate*}\n\\item 'response'\n\\item 'x1'\n\\item 'x2'\n\\item 'x3'\n\\item 'x4'\n\\item 'x5'\n\\item 'x6'\n\\item 'x7'\n\\item 'x8'\n\\item 'x9'\n\\item 'x10'\n\\item 'x11'\n\\item 'x12'\n\\item 'x13'\n\\item 'x14'\n\\item 'x15'\n\\item 'x16'\n\\item 'x17'\n\\item 'x18'\n\\item 'x19'\n\\item 'x20'\n\\item 'x21'\n\\item 'x22'\n\\item 'x23'\n\\item 'x24'\n\\item 'x25'\n\\item 'x26'\n\\item 'x27'\n\\item 'x28'\n\\end{enumerate*}\n",
            "text/markdown": "1. 'response'\n2. 'x1'\n3. 'x2'\n4. 'x3'\n5. 'x4'\n6. 'x5'\n7. 'x6'\n8. 'x7'\n9. 'x8'\n10. 'x9'\n11. 'x10'\n12. 'x11'\n13. 'x12'\n14. 'x13'\n15. 'x14'\n16. 'x15'\n17. 'x16'\n18. 'x17'\n19. 'x18'\n20. 'x19'\n21. 'x20'\n22. 'x21'\n23. 'x22'\n24. 'x23'\n25. 'x24'\n26. 'x25'\n27. 'x26'\n28. 'x27'\n29. 'x28'\n\n\n",
            "text/plain": [
              " [1] \"response\" \"x1\"       \"x2\"       \"x3\"       \"x4\"       \"x5\"      \n",
              " [7] \"x6\"       \"x7\"       \"x8\"       \"x9\"       \"x10\"      \"x11\"     \n",
              "[13] \"x12\"      \"x13\"      \"x14\"      \"x15\"      \"x16\"      \"x17\"     \n",
              "[19] \"x18\"      \"x19\"      \"x20\"      \"x21\"      \"x22\"      \"x23\"     \n",
              "[25] \"x24\"      \"x25\"      \"x26\"      \"x27\"      \"x28\"     "
            ]
          },
          "metadata": {
            "tags": []
          }
        }
      ]
    },
    {
      "cell_type": "code",
      "metadata": {
        "id": "_m3dYsWz9pi4"
      },
      "source": [
        "# Identitas kolom tanggapan\n",
        "ycol <- \"response\"\n",
        "\n",
        "# Identifikasi kolom prediktor\n",
        "xcols <- setdiff(names(train), ycol)\n",
        "\n",
        "# Ubah respons menjadi faktor\n",
        "train[,ycol] <- as.factor(train[,ycol])\n",
        "test[,ycol] <- as.factor(test[,ycol])"
      ],
      "execution_count": null,
      "outputs": []
    },
    {
      "cell_type": "code",
      "metadata": {
        "id": "UaEC1Y5l9pi7",
        "outputId": "b075bbf6-7ee4-470f-eaae-3a504a705307"
      },
      "source": [
        "# model RF default dengan 500 pohon\n",
        "set.seed(1)  # For reproducibility\n",
        "system.time(model <- randomForest(x = train[,xcols], \n",
        "                                  y = train[,ycol],\n",
        "                                  xtest = test[,xcols],\n",
        "                                  ntree = 50))"
      ],
      "execution_count": null,
      "outputs": [
        {
          "output_type": "display_data",
          "data": {
            "text/plain": [
              "   user  system elapsed \n",
              "  1.492   0.010   1.503 "
            ]
          },
          "metadata": {
            "tags": []
          }
        }
      ]
    },
    {
      "cell_type": "code",
      "metadata": {
        "id": "2xdb5WaN9pjA",
        "outputId": "b267ddd5-b02a-43f0-b250-ddeb2f646a23"
      },
      "source": [
        "# Buat prediksi pada set data pengujian\n",
        "preds <- model$test$votes[, 2]\n",
        "labels <- test[,ycol]\n",
        "\n",
        "# Hitung AUC pada set pengujian\n",
        "cvAUC::AUC(predictions = preds, labels = labels)"
      ],
      "execution_count": null,
      "outputs": [
        {
          "output_type": "display_data",
          "data": {
            "text/html": [
              "0.76796103462561"
            ],
            "text/latex": "0.76796103462561",
            "text/markdown": "0.76796103462561",
            "text/plain": [
              "[1] 0.767961"
            ]
          },
          "metadata": {
            "tags": []
          }
        }
      ]
    },
    {
      "cell_type": "markdown",
      "metadata": {
        "id": "6Nl04D2d9pjD"
      },
      "source": [
        "## Caret Method \"parRF\""
      ]
    },
    {
      "cell_type": "code",
      "metadata": {
        "id": "qUAyp03k9pjE"
      },
      "source": [
        "library(caret)\n",
        "library(doParallel)\n",
        "library(e1071)"
      ],
      "execution_count": null,
      "outputs": []
    },
    {
      "cell_type": "code",
      "metadata": {
        "id": "obMsE6CY9pjH"
      },
      "source": [
        "#\"parRF\" model using caret\n",
        "registerDoParallel(cores = 8)\n",
        "\n",
        "model <- caret::train(x = train[,xcols], \n",
        "                      y = train[,ycol], \n",
        "                      method = \"parRF\",\n",
        "                      preProcess = NULL,\n",
        "                      weights = NULL,\n",
        "                      metric = \"Accuracy\",\n",
        "                      maximize = TRUE,\n",
        "                      trControl = trainControl(), \n",
        "                      tuneGrid = NULL,\n",
        "                      tuneLength = 3)"
      ],
      "execution_count": null,
      "outputs": []
    },
    {
      "cell_type": "markdown",
      "metadata": {
        "id": "gooLUZuY9pjK"
      },
      "source": [
        "## h2o\n",
        "\n"
      ]
    },
    {
      "cell_type": "code",
      "metadata": {
        "id": "IxgMCJ2W9pjK",
        "outputId": "6b0e789d-2cbf-4b38-f776-61882caa9b9f"
      },
      "source": [
        "#install.packages(\"h2o\")\n",
        "library(h2o)\n",
        "#h2o.shutdown(prompt = FALSE)\n",
        "h2o.init(nthreads = -1)  #Mulai cluster H2O lokal menggunakan nthreads = jumlah inti yang tersedia"
      ],
      "execution_count": null,
      "outputs": [
        {
          "output_type": "stream",
          "text": [
            "\n",
            "H2O is not running yet, starting it now...\n",
            "\n",
            "Note:  In case of errors look at the following log files:\n",
            "    /var/folders/2j/jg4sl53d5q53tc2_nzm9fz5h0000gn/T//RtmpZIIhCg/h2o_me_started_from_r.out\n",
            "    /var/folders/2j/jg4sl53d5q53tc2_nzm9fz5h0000gn/T//RtmpZIIhCg/h2o_me_started_from_r.err\n",
            "\n",
            "\n",
            "Starting H2O JVM and connecting: . Connection successful!\n",
            "\n",
            "R is connected to the H2O cluster: \n",
            "    H2O cluster uptime:         1 seconds 107 milliseconds \n",
            "    H2O cluster version:        3.8.2.6 \n",
            "    H2O cluster name:           H2O_started_from_R_me_pvt513 \n",
            "    H2O cluster total nodes:    1 \n",
            "    H2O cluster total memory:   3.56 GB \n",
            "    H2O cluster total cores:    8 \n",
            "    H2O cluster allowed cores:  8 \n",
            "    H2O cluster healthy:        TRUE \n",
            "    H2O Connection ip:          localhost \n",
            "    H2O Connection port:        54321 \n",
            "    H2O Connection proxy:       NA \n",
            "    R Version:                  R version 3.3.0 (2016-05-03) \n",
            "\n"
          ],
          "name": "stdout"
        }
      ]
    },
    {
      "cell_type": "code",
      "metadata": {
        "id": "-sEfGnuJ9pjN",
        "outputId": "b65e67c5-db78-4068-bddb-8ecff5dad249"
      },
      "source": [
        "# Muat set data respons biner\n",
        "train <- h2o.importFile(\"./data/higgs_train_10k.csv\")\n",
        "test <- h2o.importFile(\"./data/higgs_test_5k.csv\")\n",
        "\n",
        "# Ukuran\n",
        "dim(train)\n",
        "dim(test)\n",
        "\n",
        "# Kolom\n",
        "names(train)"
      ],
      "execution_count": null,
      "outputs": [
        {
          "output_type": "stream",
          "text": [
            "  |======================================================================| 100%\n",
            "  |======================================================================| 100%\n"
          ],
          "name": "stdout"
        },
        {
          "output_type": "display_data",
          "data": {
            "text/html": [
              "<ol class=list-inline>\n",
              "\t<li>10000</li>\n",
              "\t<li>29</li>\n",
              "</ol>\n"
            ],
            "text/latex": "\\begin{enumerate*}\n\\item 10000\n\\item 29\n\\end{enumerate*}\n",
            "text/markdown": "1. 10000\n2. 29\n\n\n",
            "text/plain": [
              "[1] 10000    29"
            ]
          },
          "metadata": {
            "tags": []
          }
        },
        {
          "output_type": "display_data",
          "data": {
            "text/html": [
              "<ol class=list-inline>\n",
              "\t<li>5000</li>\n",
              "\t<li>29</li>\n",
              "</ol>\n"
            ],
            "text/latex": "\\begin{enumerate*}\n\\item 5000\n\\item 29\n\\end{enumerate*}\n",
            "text/markdown": "1. 5000\n2. 29\n\n\n",
            "text/plain": [
              "[1] 5000   29"
            ]
          },
          "metadata": {
            "tags": []
          }
        },
        {
          "output_type": "display_data",
          "data": {
            "text/html": [
              "<ol class=list-inline>\n",
              "\t<li>'response'</li>\n",
              "\t<li>'x1'</li>\n",
              "\t<li>'x2'</li>\n",
              "\t<li>'x3'</li>\n",
              "\t<li>'x4'</li>\n",
              "\t<li>'x5'</li>\n",
              "\t<li>'x6'</li>\n",
              "\t<li>'x7'</li>\n",
              "\t<li>'x8'</li>\n",
              "\t<li>'x9'</li>\n",
              "\t<li>'x10'</li>\n",
              "\t<li>'x11'</li>\n",
              "\t<li>'x12'</li>\n",
              "\t<li>'x13'</li>\n",
              "\t<li>'x14'</li>\n",
              "\t<li>'x15'</li>\n",
              "\t<li>'x16'</li>\n",
              "\t<li>'x17'</li>\n",
              "\t<li>'x18'</li>\n",
              "\t<li>'x19'</li>\n",
              "\t<li>'x20'</li>\n",
              "\t<li>'x21'</li>\n",
              "\t<li>'x22'</li>\n",
              "\t<li>'x23'</li>\n",
              "\t<li>'x24'</li>\n",
              "\t<li>'x25'</li>\n",
              "\t<li>'x26'</li>\n",
              "\t<li>'x27'</li>\n",
              "\t<li>'x28'</li>\n",
              "</ol>\n"
            ],
            "text/latex": "\\begin{enumerate*}\n\\item 'response'\n\\item 'x1'\n\\item 'x2'\n\\item 'x3'\n\\item 'x4'\n\\item 'x5'\n\\item 'x6'\n\\item 'x7'\n\\item 'x8'\n\\item 'x9'\n\\item 'x10'\n\\item 'x11'\n\\item 'x12'\n\\item 'x13'\n\\item 'x14'\n\\item 'x15'\n\\item 'x16'\n\\item 'x17'\n\\item 'x18'\n\\item 'x19'\n\\item 'x20'\n\\item 'x21'\n\\item 'x22'\n\\item 'x23'\n\\item 'x24'\n\\item 'x25'\n\\item 'x26'\n\\item 'x27'\n\\item 'x28'\n\\end{enumerate*}\n",
            "text/markdown": "1. 'response'\n2. 'x1'\n3. 'x2'\n4. 'x3'\n5. 'x4'\n6. 'x5'\n7. 'x6'\n8. 'x7'\n9. 'x8'\n10. 'x9'\n11. 'x10'\n12. 'x11'\n13. 'x12'\n14. 'x13'\n15. 'x14'\n16. 'x15'\n17. 'x16'\n18. 'x17'\n19. 'x18'\n20. 'x19'\n21. 'x20'\n22. 'x21'\n23. 'x22'\n24. 'x23'\n25. 'x24'\n26. 'x25'\n27. 'x26'\n28. 'x27'\n29. 'x28'\n\n\n",
            "text/plain": [
              " [1] \"response\" \"x1\"       \"x2\"       \"x3\"       \"x4\"       \"x5\"      \n",
              " [7] \"x6\"       \"x7\"       \"x8\"       \"x9\"       \"x10\"      \"x11\"     \n",
              "[13] \"x12\"      \"x13\"      \"x14\"      \"x15\"      \"x16\"      \"x17\"     \n",
              "[19] \"x18\"      \"x19\"      \"x20\"      \"x21\"      \"x22\"      \"x23\"     \n",
              "[25] \"x24\"      \"x25\"      \"x26\"      \"x27\"      \"x28\"     "
            ]
          },
          "metadata": {
            "tags": []
          }
        }
      ]
    },
    {
      "cell_type": "code",
      "metadata": {
        "id": "tJhK255_9pjQ"
      },
      "source": [
        "# Identitas kolom tanggapan\n",
        "ycol <- \"response\"\n",
        "\n",
        "# Identify the predictor columns\n",
        "xcols <- setdiff(names(train), ycol)\n",
        "\n",
        "# Convert response to factor (required by randomForest)\n",
        "train[,ycol] <- as.factor(train[,ycol])\n",
        "test[,ycol] <- as.factor(test[,ycol])"
      ],
      "execution_count": null,
      "outputs": []
    },
    {
      "cell_type": "code",
      "metadata": {
        "id": "cwOXYiBN9pjU",
        "outputId": "64e77990-1bd1-4a81-ba6a-ff0e06f242e7"
      },
      "source": [
        "# Latih model RF default dengan 100 pohon\n",
        "\n",
        "system.time(model <- h2o.randomForest(x = xcols,\n",
        "                                      y = ycol,\n",
        "                                      training_frame = train,\n",
        "                                      seed = 1, #for reproducibility\n",
        "                                      ntrees = 50)) "
      ],
      "execution_count": null,
      "outputs": [
        {
          "output_type": "stream",
          "text": [
            "\r  |                                                                            \r  |                                                                      |   0%\r  |                                                                            \r  |==========                                                            |  14%\r  |                                                                            \r  |========================                                              |  34%\r  |                                                                            \r  |=========================================                             |  58%\r  |                                                                            \r  |=======================================================               |  78%\r  |                                                                            \r  |======================================================================| 100%\n"
          ],
          "name": "stdout"
        },
        {
          "output_type": "display_data",
          "data": {
            "text/plain": [
              "   user  system elapsed \n",
              "  0.217   0.008   5.502 "
            ]
          },
          "metadata": {
            "tags": []
          }
        }
      ]
    },
    {
      "cell_type": "code",
      "metadata": {
        "id": "1UegGjUN9pjX",
        "outputId": "56967f9a-515e-4be5-9b4e-a3879a384ed4"
      },
      "source": [
        "# Hitung AUC pada set data pengujian\n",
        "# H2O menghitung banyak metrik kinerja model secara otomatis, termasuk AUC\n",
        "\n",
        "perf <- h2o.performance(model = model, newdata = test)\n",
        "h2o.auc(perf)"
      ],
      "execution_count": null,
      "outputs": [
        {
          "output_type": "display_data",
          "data": {
            "text/html": [
              "0.769800386918767"
            ],
            "text/latex": "0.769800386918767",
            "text/markdown": "0.769800386918767",
            "text/plain": [
              "[1] 0.7698004"
            ]
          },
          "metadata": {
            "tags": []
          }
        }
      ]
    }
  ]
}